{
 "cells": [
  {
   "cell_type": "code",
   "execution_count": null,
   "metadata": {},
   "outputs": [],
   "source": [
    "import warnings\n",
    "warnings.filterwarnings('ignore')"
   ]
  },
  {
   "cell_type": "code",
   "execution_count": null,
   "metadata": {},
   "outputs": [],
   "source": [
    "import numpy as np\n",
    "import pandas as pd\n",
    "import matplotlib.pyplot as plt\n",
    "%matplotlib inline\n",
    "import seaborn as sns"
   ]
  },
  {
   "cell_type": "code",
   "execution_count": null,
   "metadata": {},
   "outputs": [],
   "source": [
    "data = pd.read_csv(\"Cardiovascular_Disease_Dataset/Cardiovascular_Disease_Dataset.csv\")\n",
    "data.head()"
   ]
  },
  {
   "cell_type": "code",
   "execution_count": null,
   "metadata": {},
   "outputs": [],
   "source": [
    "del data['patientid']"
   ]
  },
  {
   "cell_type": "code",
   "execution_count": null,
   "metadata": {},
   "outputs": [],
   "source": [
    "data = data.dropna()"
   ]
  },
  {
   "cell_type": "code",
   "execution_count": null,
   "metadata": {},
   "outputs": [],
   "source": [
    "data.info()"
   ]
  },
  {
   "cell_type": "code",
   "execution_count": null,
   "metadata": {},
   "outputs": [],
   "source": [
    "import matplotlib.pyplot as plt\n",
    "\n",
    "plt.figure(figsize=(15,15))\n",
    "sns.heatmap(data.corr(), annot=True)\n",
    "plt.show()"
   ]
  },
  {
   "cell_type": "code",
   "execution_count": null,
   "metadata": {},
   "outputs": [],
   "source": [
    "data['target'].value_counts()#.plot(kind='bar');"
   ]
  },
  {
   "cell_type": "code",
   "execution_count": null,
   "metadata": {},
   "outputs": [],
   "source": [
    "data['target'].value_counts().plot(kind='bar',color=['red','green']);"
   ]
  },
  {
   "cell_type": "code",
   "execution_count": null,
   "metadata": {},
   "outputs": [],
   "source": [
    "data.info()"
   ]
  },
  {
   "cell_type": "code",
   "execution_count": null,
   "metadata": {},
   "outputs": [],
   "source": [
    "from sklearn.metrics import accuracy_score, precision_score, recall_score, f1_score, cohen_kappa_score,roc_auc_score"
   ]
  },
  {
   "cell_type": "code",
   "execution_count": null,
   "metadata": {},
   "outputs": [],
   "source": [
    "ML_Model = []\n",
    "accuracy = []\n",
    "f1score = []\n",
    "recall = []\n",
    "precision = []\n",
    "cohenkappa = []\n",
    "auc = []\n",
    "\n",
    "#function to call for storing the results\n",
    "def storeResults(model, a,b,c,d,e,f):\n",
    "    ML_Model.append(model)\n",
    "    accuracy.append(round(a, 3))\n",
    "    f1score.append(round(b, 3))\n",
    "    recall.append(round(c, 3))\n",
    "    precision.append(round(d, 3))\n",
    "    cohenkappa.append(round(e, 3))\n",
    "    auc.append(round(f, 3))"
   ]
  },
  {
   "cell_type": "code",
   "execution_count": null,
   "metadata": {},
   "outputs": [],
   "source": [
    "X = data.drop([\"target\"],axis =1)\n",
    "y = data[\"target\"]"
   ]
  },
  {
   "cell_type": "code",
   "execution_count": null,
   "metadata": {},
   "outputs": [],
   "source": [
    "from sklearn.model_selection import train_test_split\n",
    "\n",
    "X_train, X_test, y_train, y_test = train_test_split(X, y, test_size = 0.20, random_state = 42)\n",
    "X_train.shape, y_train.shape, X_test.shape, y_test.shape"
   ]
  },
  {
   "cell_type": "markdown",
   "metadata": {},
   "source": [
    "# XGBoost"
   ]
  },
  {
   "cell_type": "code",
   "execution_count": null,
   "metadata": {},
   "outputs": [],
   "source": [
    "from xgboost import XGBClassifier\n",
    "\n",
    "# instantiate the model \n",
    "clf = XGBClassifier()\n",
    "\n",
    "clf.fit(X_train, y_train)\n",
    "\n",
    "y_pred = clf.predict(X_test)\n",
    "\n",
    "ml_acc = accuracy_score(y_pred, y_test)\n",
    "ml_prec = precision_score(y_pred, y_test)\n",
    "ml_rec = recall_score(y_pred, y_test)\n",
    "ml_f1 = f1_score(y_pred, y_test)\n",
    "ml_cp = cohen_kappa_score(y_pred, y_test)\n",
    "ml_roc = roc_auc_score(y_test, clf.predict_proba(X_test)[:, 1])\n",
    "\n",
    "storeResults('XGBoost',ml_acc,ml_prec,ml_rec,ml_f1,ml_cp,ml_roc)"
   ]
  },
  {
   "cell_type": "markdown",
   "metadata": {},
   "source": [
    "# Random Forest"
   ]
  },
  {
   "cell_type": "code",
   "execution_count": null,
   "metadata": {},
   "outputs": [],
   "source": [
    "from sklearn.ensemble import RandomForestClassifier\n",
    "\n",
    "# instantiate the model \n",
    "clf = RandomForestClassifier()\n",
    "\n",
    "clf.fit(X_train, y_train)\n",
    "\n",
    "y_pred = clf.predict(X_test)\n",
    "\n",
    "ml_acc = accuracy_score(y_pred, y_test)\n",
    "ml_prec = precision_score(y_pred, y_test)\n",
    "ml_rec = recall_score(y_pred, y_test)\n",
    "ml_f1 = f1_score(y_pred, y_test)\n",
    "ml_cp = cohen_kappa_score(y_pred, y_test)\n",
    "ml_roc = roc_auc_score(y_test, clf.predict_proba(X_test)[:, 1])\n",
    "\n",
    "storeResults('RF',ml_acc,ml_prec,ml_rec,ml_f1,ml_cp,ml_roc)"
   ]
  },
  {
   "cell_type": "markdown",
   "metadata": {},
   "source": [
    "# Decision Tree"
   ]
  },
  {
   "cell_type": "code",
   "execution_count": null,
   "metadata": {},
   "outputs": [],
   "source": [
    "from sklearn.tree import DecisionTreeClassifier\n",
    "\n",
    "# instantiate the model \n",
    "clf = DecisionTreeClassifier()\n",
    "\n",
    "clf.fit(X_train, y_train)\n",
    "\n",
    "y_pred = clf.predict(X_test)\n",
    "\n",
    "ml_acc = accuracy_score(y_pred, y_test)\n",
    "ml_prec = precision_score(y_pred, y_test)\n",
    "ml_rec = recall_score(y_pred, y_test)\n",
    "ml_f1 = f1_score(y_pred, y_test)\n",
    "ml_cp = cohen_kappa_score(y_pred, y_test)\n",
    "ml_roc = roc_auc_score(y_test, clf.predict_proba(X_test)[:, 1])\n",
    "\n",
    "storeResults('DT',ml_acc,ml_prec,ml_rec,ml_f1,ml_cp,ml_roc)"
   ]
  },
  {
   "cell_type": "markdown",
   "metadata": {},
   "source": [
    "# Logistic Regression"
   ]
  },
  {
   "cell_type": "code",
   "execution_count": null,
   "metadata": {},
   "outputs": [],
   "source": [
    "from sklearn.linear_model import LogisticRegression\n",
    "\n",
    "# instantiate the model \n",
    "clf = LogisticRegression()\n",
    "\n",
    "clf.fit(X_train, y_train)\n",
    "\n",
    "y_pred = clf.predict(X_test)\n",
    "\n",
    "ml_acc = accuracy_score(y_pred, y_test)\n",
    "ml_prec = precision_score(y_pred, y_test)\n",
    "ml_rec = recall_score(y_pred, y_test)\n",
    "ml_f1 = f1_score(y_pred, y_test)\n",
    "ml_cp = cohen_kappa_score(y_pred, y_test)\n",
    "ml_roc = roc_auc_score(y_test, clf.predict_proba(X_test)[:, 1])\n",
    "\n",
    "storeResults('LR',ml_acc,ml_prec,ml_rec,ml_f1,ml_cp,ml_roc)"
   ]
  },
  {
   "cell_type": "markdown",
   "metadata": {},
   "source": [
    "# SVM"
   ]
  },
  {
   "cell_type": "code",
   "execution_count": null,
   "metadata": {},
   "outputs": [],
   "source": [
    "from sklearn.svm import SVC\n",
    "\n",
    "# instantiate the model \n",
    "clf = SVC(probability=True)\n",
    "\n",
    "clf.fit(X_train, y_train)\n",
    "\n",
    "y_pred = clf.predict(X_test)\n",
    "\n",
    "ml_acc = accuracy_score(y_pred, y_test)\n",
    "ml_prec = precision_score(y_pred, y_test)\n",
    "ml_rec = recall_score(y_pred, y_test)\n",
    "ml_f1 = f1_score(y_pred, y_test)\n",
    "ml_cp = cohen_kappa_score(y_pred, y_test)\n",
    "ml_roc = roc_auc_score(y_test, clf.predict_proba(X_test)[:, 1])\n",
    "\n",
    "storeResults('SVM',ml_acc,ml_prec,ml_rec,ml_f1,ml_cp,ml_roc)"
   ]
  },
  {
   "cell_type": "markdown",
   "metadata": {},
   "source": [
    "# RS-CV "
   ]
  },
  {
   "cell_type": "markdown",
   "metadata": {},
   "source": [
    "Best Paramters"
   ]
  },
  {
   "cell_type": "markdown",
   "metadata": {},
   "source": [
    "# XGBoost"
   ]
  },
  {
   "cell_type": "code",
   "execution_count": null,
   "metadata": {},
   "outputs": [],
   "source": [
    "clf = XGBClassifier(learning_rate='0.1',min_child_weight=7,subsample=0.7,max_depth=30,n_estimators=400)\n",
    "\n",
    "clf.fit(X_train, y_train)\n",
    "\n",
    "y_pred = clf.predict(X_test)\n",
    "\n",
    "ml_acc = accuracy_score(y_pred, y_test)\n",
    "ml_prec = precision_score(y_pred, y_test)\n",
    "ml_rec = recall_score(y_pred, y_test)\n",
    "ml_f1 = f1_score(y_pred, y_test)\n",
    "ml_cp = cohen_kappa_score(y_pred, y_test)\n",
    "ml_roc = roc_auc_score(y_test, clf.predict_proba(X_test)[:, 1])\n",
    "\n",
    "storeResults('XGB-RS-CV',ml_acc,ml_prec,ml_rec,ml_f1,ml_cp,ml_roc)"
   ]
  },
  {
   "cell_type": "markdown",
   "metadata": {},
   "source": [
    "# Random Forest"
   ]
  },
  {
   "cell_type": "code",
   "execution_count": null,
   "metadata": {},
   "outputs": [],
   "source": [
    "clf = RandomForestClassifier(criterion='entropy',max_features='log2',max_depth=20,n_estimators=600,min_samples_leaf=2)\n",
    "\n",
    "clf.fit(X_train, y_train)\n",
    "\n",
    "y_pred = clf.predict(X_test)\n",
    "\n",
    "ml_acc = accuracy_score(y_pred, y_test)\n",
    "ml_prec = precision_score(y_pred, y_test)\n",
    "ml_rec = recall_score(y_pred, y_test)\n",
    "ml_f1 = f1_score(y_pred, y_test)\n",
    "ml_cp = cohen_kappa_score(y_pred, y_test)\n",
    "ml_roc = roc_auc_score(y_test, clf.predict_proba(X_test)[:, 1])\n",
    "\n",
    "storeResults('RF-RS-CV',ml_acc,ml_prec,ml_rec,ml_f1,ml_cp,ml_roc)"
   ]
  },
  {
   "cell_type": "markdown",
   "metadata": {},
   "source": [
    "# Decision Tree"
   ]
  },
  {
   "cell_type": "code",
   "execution_count": null,
   "metadata": {},
   "outputs": [],
   "source": [
    "clf = DecisionTreeClassifier(criterion='entropy',max_features='log2',max_depth=25,min_samples_leaf=2,min_samples_split=5)\n",
    "\n",
    "clf.fit(X_train, y_train)\n",
    "\n",
    "y_pred = clf.predict(X_test)\n",
    "\n",
    "ml_acc = accuracy_score(y_pred, y_test)\n",
    "ml_prec = precision_score(y_pred, y_test)\n",
    "ml_rec = recall_score(y_pred, y_test)\n",
    "ml_f1 = f1_score(y_pred, y_test)\n",
    "ml_cp = cohen_kappa_score(y_pred, y_test)\n",
    "ml_roc = roc_auc_score(y_test, clf.predict_proba(X_test)[:, 1])\n",
    "\n",
    "storeResults('DT-RS-CV',ml_acc,ml_prec,ml_rec,ml_f1,ml_cp,ml_roc)"
   ]
  },
  {
   "cell_type": "markdown",
   "metadata": {},
   "source": [
    "# Logistic Regression"
   ]
  },
  {
   "cell_type": "code",
   "execution_count": null,
   "metadata": {},
   "outputs": [],
   "source": [
    "clf = LogisticRegression(C=22.54434690031882,max_iter=100,multi_class='auto',intercept_scaling=1,penalty='l2',tol=0.0001,solver='lbfgs')\n",
    "\n",
    "clf.fit(X_train, y_train)\n",
    "\n",
    "y_pred = clf.predict(X_test)\n",
    "\n",
    "ml_acc = accuracy_score(y_pred, y_test)\n",
    "ml_prec = precision_score(y_pred, y_test)\n",
    "ml_rec = recall_score(y_pred, y_test)\n",
    "ml_f1 = f1_score(y_pred, y_test)\n",
    "ml_cp = cohen_kappa_score(y_pred, y_test)\n",
    "ml_roc = roc_auc_score(y_test, clf.predict_proba(X_test)[:, 1])\n",
    "\n",
    "storeResults('LR-RS-CV',ml_acc,ml_prec,ml_rec,ml_f1,ml_cp,ml_roc)"
   ]
  },
  {
   "cell_type": "markdown",
   "metadata": {},
   "source": [
    "# SVM"
   ]
  },
  {
   "cell_type": "code",
   "execution_count": null,
   "metadata": {},
   "outputs": [],
   "source": [
    "clf = SVC(probability=True,C=1300,cache_size=200,decision_function_shape='ovr',tol=0.0001,degree=3,kernel='rbf',gamma=0.0001,max_iter=-1)\n",
    "\n",
    "clf.fit(X_train, y_train)\n",
    "\n",
    "y_pred = clf.predict(X_test)\n",
    "\n",
    "ml_acc = accuracy_score(y_pred, y_test)\n",
    "ml_prec = precision_score(y_pred, y_test)\n",
    "ml_rec = recall_score(y_pred, y_test)\n",
    "ml_f1 = f1_score(y_pred, y_test)\n",
    "ml_cp = cohen_kappa_score(y_pred, y_test)\n",
    "ml_roc = roc_auc_score(y_test, clf.predict_proba(X_test)[:, 1])\n",
    "\n",
    "storeResults('SVM-RS-CV',ml_acc,ml_prec,ml_rec,ml_f1,ml_cp,ml_roc)"
   ]
  },
  {
   "cell_type": "markdown",
   "metadata": {},
   "source": [
    "# GS-CV"
   ]
  },
  {
   "cell_type": "markdown",
   "metadata": {},
   "source": [
    "Best Estimatiors"
   ]
  },
  {
   "cell_type": "markdown",
   "metadata": {},
   "source": [
    "# XGBoost"
   ]
  },
  {
   "cell_type": "code",
   "execution_count": null,
   "metadata": {},
   "outputs": [],
   "source": [
    "clf = XGBClassifier(learning_rate='0.05',min_child_weight=7,subsample=0.8,max_depth=6,n_estimators=180)\n",
    "\n",
    "clf.fit(X_train, y_train)\n",
    "\n",
    "y_pred = clf.predict(X_test)\n",
    "\n",
    "ml_acc = accuracy_score(y_pred, y_test)\n",
    "ml_prec = precision_score(y_pred, y_test)\n",
    "ml_rec = recall_score(y_pred, y_test)\n",
    "ml_f1 = f1_score(y_pred, y_test)\n",
    "ml_cp = cohen_kappa_score(y_pred, y_test)\n",
    "ml_roc = roc_auc_score(y_test, clf.predict_proba(X_test)[:, 1])\n",
    "\n",
    "storeResults('XGB-GS-CV',ml_acc,ml_prec,ml_rec,ml_f1,ml_cp,ml_roc)"
   ]
  },
  {
   "cell_type": "code",
   "execution_count": null,
   "metadata": {},
   "outputs": [],
   "source": [
    "clf = RandomForestClassifier(criterion='entropy',max_depth=8,n_estimators=200,min_samples_leaf=2,min_samples_split=5)\n",
    "\n",
    "clf.fit(X_train, y_train)\n",
    "\n",
    "y_pred = clf.predict(X_test)\n",
    "\n",
    "ml_acc = accuracy_score(y_pred, y_test)\n",
    "ml_prec = precision_score(y_pred, y_test)\n",
    "ml_rec = recall_score(y_pred, y_test)\n",
    "ml_f1 = f1_score(y_pred, y_test)\n",
    "ml_cp = cohen_kappa_score(y_pred, y_test)\n",
    "ml_roc = roc_auc_score(y_test, clf.predict_proba(X_test)[:, 1])\n",
    "\n",
    "storeResults('RF-GS-CV',ml_acc,ml_prec,ml_rec,ml_f1,ml_cp,ml_roc)"
   ]
  },
  {
   "cell_type": "code",
   "execution_count": null,
   "metadata": {},
   "outputs": [],
   "source": [
    "clf = DecisionTreeClassifier(criterion='gini',max_features='sqrt',max_depth=15,min_samples_leaf=5,min_samples_split=2,splitter='best')\n",
    "\n",
    "clf.fit(X_train, y_train)\n",
    "\n",
    "y_pred = clf.predict(X_test)\n",
    "\n",
    "ml_acc = accuracy_score(y_pred, y_test)\n",
    "ml_prec = precision_score(y_pred, y_test)\n",
    "ml_rec = recall_score(y_pred, y_test)\n",
    "ml_f1 = f1_score(y_pred, y_test)\n",
    "ml_cp = cohen_kappa_score(y_pred, y_test)\n",
    "ml_roc = roc_auc_score(y_test, clf.predict_proba(X_test)[:, 1])\n",
    "\n",
    "storeResults('DT-GS-CV',ml_acc,ml_prec,ml_rec,ml_f1,ml_cp,ml_roc)"
   ]
  },
  {
   "cell_type": "code",
   "execution_count": null,
   "metadata": {},
   "outputs": [],
   "source": [
    "clf = LogisticRegression(C=21.54434690031882,max_iter=100,multi_class='auto',intercept_scaling=1,penalty='l2',tol=0.0001,solver='lbfgs')\n",
    "\n",
    "clf.fit(X_train, y_train)\n",
    "\n",
    "y_pred = clf.predict(X_test)\n",
    "\n",
    "ml_acc = accuracy_score(y_pred, y_test)\n",
    "ml_prec = precision_score(y_pred, y_test)\n",
    "ml_rec = recall_score(y_pred, y_test)\n",
    "ml_f1 = f1_score(y_pred, y_test)\n",
    "ml_cp = cohen_kappa_score(y_pred, y_test)\n",
    "ml_roc = roc_auc_score(y_test, clf.predict_proba(X_test)[:, 1])\n",
    "\n",
    "storeResults('LR-GS-CV',ml_acc,ml_prec,ml_rec,ml_f1,ml_cp,ml_roc)"
   ]
  },
  {
   "cell_type": "code",
   "execution_count": null,
   "metadata": {},
   "outputs": [],
   "source": [
    "clf = SVC(probability=True,C=1000,cache_size=200,decision_function_shape='ovr',tol=0.0001,degree=3,kernel='rbf',gamma=0.0001,max_iter=-1)\n",
    "\n",
    "clf.fit(X_train, y_train)\n",
    "\n",
    "y_pred = clf.predict(X_test)\n",
    "\n",
    "ml_acc = accuracy_score(y_pred, y_test)\n",
    "ml_prec = precision_score(y_pred, y_test)\n",
    "ml_rec = recall_score(y_pred, y_test)\n",
    "ml_f1 = f1_score(y_pred, y_test)\n",
    "ml_cp = cohen_kappa_score(y_pred, y_test)\n",
    "ml_roc = roc_auc_score(y_test, clf.predict_proba(X_test)[:, 1])\n",
    "\n",
    "storeResults('SVM-GS-CV',ml_acc,ml_prec,ml_rec,ml_f1,ml_cp,ml_roc)"
   ]
  },
  {
   "cell_type": "markdown",
   "metadata": {},
   "source": [
    "# DT + RF Tuned"
   ]
  },
  {
   "cell_type": "code",
   "execution_count": null,
   "metadata": {},
   "outputs": [],
   "source": [
    "from sklearn.ensemble import StackingClassifier\n",
    "\n",
    "clf1 = RandomForestClassifier(criterion='entropy',max_features='log2',max_depth=20,n_estimators=600,min_samples_leaf=2)\n",
    "clf2 = DecisionTreeClassifier(criterion='entropy',max_features='log2',max_depth=25,min_samples_leaf=2,min_samples_split=5)\n",
    "\n",
    "estimators = [('rf', clf1),('dt', clf2)]\n",
    "\n",
    "clf3 = XGBClassifier(learning_rate='0.1',min_child_weight=7,subsample=0.7,max_depth=30,n_estimators=400)\n",
    "\n",
    "clf = StackingClassifier(estimators=estimators, final_estimator=clf3)\n",
    "\n",
    "clf.fit(X_train, y_train)\n",
    "\n",
    "y_pred = clf.predict(X_test)\n",
    "\n",
    "ml_acc = accuracy_score(y_pred, y_test)\n",
    "ml_prec = precision_score(y_pred, y_test)\n",
    "ml_rec = recall_score(y_pred, y_test)\n",
    "ml_f1 = f1_score(y_pred, y_test)\n",
    "ml_cp = cohen_kappa_score(y_pred, y_test)\n",
    "ml_roc = roc_auc_score(y_test, clf.predict_proba(X_test)[:, 1])\n",
    "\n",
    "storeResults('Meta Model',ml_acc,ml_prec,ml_rec,ml_f1,ml_cp,ml_roc)"
   ]
  },
  {
   "cell_type": "markdown",
   "metadata": {},
   "source": [
    "# Voting Classifier"
   ]
  },
  {
   "cell_type": "code",
   "execution_count": null,
   "metadata": {},
   "outputs": [],
   "source": [
    "from sklearn.ensemble import BaggingClassifier, VotingClassifier\n",
    "\n",
    "forest = RandomForestClassifier(criterion='entropy',max_features='log2',max_depth=20,n_estimators=600,min_samples_leaf=2)\n",
    "\n",
    "clf1 = BaggingClassifier(forest,n_estimators=10, random_state=0)\n",
    "clf2 = DecisionTreeClassifier(criterion='entropy',max_features='log2',max_depth=25,min_samples_leaf=2,min_samples_split=5)\n",
    "\n",
    "eclf1 = VotingClassifier(estimators=[('bagging', clf1), ('dt', clf2)], voting='soft')\n",
    "eclf1.fit(X_train, y_train)\n",
    "y_pred = eclf1.predict(X_test)\n",
    "\n",
    "ml_acc = accuracy_score(y_pred, y_test)\n",
    "ml_prec = precision_score(y_pred, y_test)\n",
    "ml_rec = recall_score(y_pred, y_test)\n",
    "ml_f1 = f1_score(y_pred, y_test)\n",
    "ml_cp = cohen_kappa_score(y_pred, y_test)\n",
    "ml_roc = roc_auc_score(y_test, clf.predict_proba(X_test)[:, 1])"
   ]
  },
  {
   "cell_type": "code",
   "execution_count": null,
   "metadata": {},
   "outputs": [],
   "source": [
    "storeResults('Voting Classifier',ml_acc,ml_prec,ml_rec,ml_f1,ml_cp,ml_roc)"
   ]
  },
  {
   "cell_type": "markdown",
   "metadata": {},
   "source": [
    "# Comparison"
   ]
  },
  {
   "cell_type": "code",
   "execution_count": null,
   "metadata": {},
   "outputs": [],
   "source": [
    "#creating dataframe\n",
    "result = pd.DataFrame({ 'ML Model' : ML_Model,\n",
    "                        'Accuracy' : accuracy,\n",
    "                        'Precision': precision,\n",
    "                        'Recall'   : recall,\n",
    "                        'F1-Score': f1score,\n",
    "                        'Cohen Kappa Score' : cohenkappa,\n",
    "                        'ROC AUC Score' : auc\n",
    "                      })"
   ]
  },
  {
   "cell_type": "code",
   "execution_count": null,
   "metadata": {},
   "outputs": [],
   "source": [
    "result"
   ]
  },
  {
   "cell_type": "markdown",
   "metadata": {},
   "source": [
    "# Modelling"
   ]
  },
  {
   "cell_type": "code",
   "execution_count": null,
   "metadata": {},
   "outputs": [],
   "source": [
    "import joblib\n",
    "#filename = 'model.sav'\n",
    "joblib.dump(eclf1, 'model_df2.sav')"
   ]
  },
  {
   "cell_type": "markdown",
   "metadata": {},
   "source": [
    "# Graph"
   ]
  },
  {
   "cell_type": "code",
   "execution_count": null,
   "metadata": {},
   "outputs": [],
   "source": [
    "classifier = ML_Model\n",
    "y_pos = np.arange(len(classifier))"
   ]
  },
  {
   "cell_type": "markdown",
   "metadata": {},
   "source": [
    "# Accuracy"
   ]
  },
  {
   "cell_type": "code",
   "execution_count": null,
   "metadata": {},
   "outputs": [],
   "source": [
    "import matplotlib.pyplot as plt2\n",
    "plt2.barh(y_pos, accuracy, align='center', alpha=0.5,color='blue')\n",
    "plt2.yticks(y_pos, classifier)\n",
    "plt2.xlabel('Accuracy Score')\n",
    "plt2.title('Classification Performance')\n",
    "plt2.show()"
   ]
  },
  {
   "cell_type": "markdown",
   "metadata": {},
   "source": [
    "# Precision"
   ]
  },
  {
   "cell_type": "code",
   "execution_count": null,
   "metadata": {},
   "outputs": [],
   "source": [
    "plt2.barh(y_pos, precision, align='center', alpha=0.5,color='red')\n",
    "plt2.yticks(y_pos, classifier)\n",
    "plt2.xlabel('Precision Score')\n",
    "plt2.title('Classification Performance')\n",
    "plt2.show()"
   ]
  },
  {
   "cell_type": "markdown",
   "metadata": {},
   "source": [
    "# Recall"
   ]
  },
  {
   "cell_type": "code",
   "execution_count": null,
   "metadata": {},
   "outputs": [],
   "source": [
    "plt2.barh(y_pos, recall, align='center', alpha=0.5,color='cyan')\n",
    "plt2.yticks(y_pos, classifier)\n",
    "plt2.xlabel('Recall Score')\n",
    "plt2.title('Classification Performance')\n",
    "plt2.show()"
   ]
  },
  {
   "cell_type": "markdown",
   "metadata": {},
   "source": [
    "# F1 Score"
   ]
  },
  {
   "cell_type": "code",
   "execution_count": null,
   "metadata": {},
   "outputs": [],
   "source": [
    "plt2.barh(y_pos, f1score, align='center', alpha=0.5,color='magenta')\n",
    "plt2.yticks(y_pos, classifier)\n",
    "plt2.xlabel('F1 Score')\n",
    "plt2.title('Classification Performance')\n",
    "plt2.show()"
   ]
  },
  {
   "cell_type": "markdown",
   "metadata": {},
   "source": [
    "# ROC AUC"
   ]
  },
  {
   "cell_type": "code",
   "execution_count": null,
   "metadata": {},
   "outputs": [],
   "source": [
    "plt2.barh(y_pos, auc, align='center', alpha=0.5,color='orange')\n",
    "plt2.yticks(y_pos, classifier)\n",
    "plt2.xlabel('ROC_AUC Score')\n",
    "plt2.title('Classification Performance')\n",
    "plt2.show()"
   ]
  },
  {
   "cell_type": "markdown",
   "metadata": {},
   "source": [
    "# Cohen Kappa Score"
   ]
  },
  {
   "cell_type": "code",
   "execution_count": null,
   "metadata": {},
   "outputs": [],
   "source": [
    "plt2.barh(y_pos, cohenkappa, align='center', alpha=0.5,color='navy')\n",
    "plt2.yticks(y_pos, classifier)\n",
    "plt2.xlabel('Cohen Kappa Score')\n",
    "plt2.title('Classification Performance')\n",
    "plt2.show()"
   ]
  },
  {
   "cell_type": "code",
   "execution_count": null,
   "metadata": {},
   "outputs": [],
   "source": []
  }
 ],
 "metadata": {
  "kernelspec": {
   "display_name": "Python 3 (ipykernel)",
   "language": "python",
   "name": "python3"
  },
  "language_info": {
   "codemirror_mode": {
    "name": "ipython",
    "version": 3
   },
   "file_extension": ".py",
   "mimetype": "text/x-python",
   "name": "python",
   "nbconvert_exporter": "python",
   "pygments_lexer": "ipython3",
   "version": "3.10.9"
  }
 },
 "nbformat": 4,
 "nbformat_minor": 2
}
